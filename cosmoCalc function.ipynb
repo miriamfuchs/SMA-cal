{
 "cells": [
  {
   "cell_type": "code",
   "execution_count": 2,
   "metadata": {
    "collapsed": true
   },
   "outputs": [],
   "source": [
    "import pickle as pickle\n",
    "import numpy as np\n",
    "import matplotlib.pyplot as plt\n",
    "from pprint import pprint as pp\n",
    "import math as math\n",
    "from matplotlib.ticker import FuncFormatter, MaxNLocator\n",
    "import pandas as pd\n"
   ]
  },
  {
   "cell_type": "code",
   "execution_count": 3,
   "metadata": {
    "collapsed": true
   },
   "outputs": [],
   "source": [
    "# Need to convert sensitivity calculations into luminosity function constraints\n",
    "# Create new bins for sensitivity values based on freq range\n",
    "\n",
    "#New freq observed arrays\n",
    "#190 to 214 GHz\n",
    "freqObs_190=np.array(range(60))+190\n",
    "#250 to 314 GHz\n",
    "freqObs_250=np.array(range(65))+250\n",
    "#315 to 350 GHz\n",
    "freqObs_315=np.array(range(66))+315"
   ]
  },
  {
   "cell_type": "code",
   "execution_count": 4,
   "metadata": {
    "collapsed": true
   },
   "outputs": [],
   "source": [
    "# Step 1: Derive redshift values for different spectral lines: \n",
    "\n",
    "# CO(3-2) @ 345 GHz, CO(4-3) @ 461 GHz, CO(5-6) @ 576 GHz, CII @ 1896 GHZ\n",
    "freqEmit = np.array([345,461,575,1896])\n",
    "\n",
    "#CO(3-2)\n",
    "z_CO32_190 = (freqEmit[0]-freqObs_190)/(freqObs_190)\n",
    "z_CO32_250 = (freqEmit[0]-freqObs_250)/(freqObs_250)\n",
    "z_CO32_315 = (freqEmit[0]-freqObs_315)/(freqObs_315)\n",
    "\n",
    "\n",
    "#CO(4-3)\n",
    "z_CO43_190 = (freqEmit[1]-freqObs_190)/(freqObs_190)\n",
    "z_CO43_250 = (freqEmit[1]-freqObs_250)/(freqObs_250)\n",
    "z_CO43_315 = (freqEmit[1]-freqObs_315)/(freqObs_315)\n",
    "\n",
    "#CO(5-6)\n",
    "z_CO56_190 = (freqEmit[2]-freqObs_190)/(freqObs_190)\n",
    "z_CO56_250 = (freqEmit[2]-freqObs_250)/(freqObs_250)\n",
    "z_CO56_315 = (freqEmit[2]-freqObs_315)/(freqObs_315)\n",
    "\n",
    "#CII\n",
    "z_CII_190 = (freqEmit[3]-freqObs_190)/(freqObs_190)\n",
    "z_CII_250 = (freqEmit[3]-freqObs_250)/(freqObs_250)\n",
    "z_CII_315 = (freqEmit[3]-freqObs_315)/(freqObs_315)\n",
    "\n"
   ]
  },
  {
   "cell_type": "code",
   "execution_count": 12,
   "metadata": {},
   "outputs": [],
   "source": [
    "#freqEmit = np.array([345,461,575,1896])\n",
    "#restFreq=np.array([230,230,230,230])\n",
    "\n"
   ]
  },
  {
   "cell_type": "code",
   "execution_count": null,
   "metadata": {},
   "outputs": [],
   "source": []
  },
  {
   "cell_type": "code",
   "execution_count": 9,
   "metadata": {
    "collapsed": true
   },
   "outputs": [],
   "source": [
    "def cosmo_struc(zRed,restFreq):\n",
    "    H0 = 100\n",
    "    omegaM = 0.27\n",
    "    omegaV = 0.73\n",
    "    nIters = 1000\n",
    "   # transName = 'UNK'\n",
    "    speedC = 2.9979*10**5 # Hubble constant is in km/sec/Mpc, so c needs to be in kps\n",
    "    ####check with karto\n",
    "    az = 1.0/(1+1.0*zRed)\n",
    "    \n",
    "    #Set up empty arrays for each value we are interested in\n",
    "    cosmoStruct={} \n",
    "    nRed = len(zRed) # Number of redshifts\n",
    "    obsFreq = restFreq/(1+zRed) # Obs freq at given redshift\n",
    "    \n",
    "  \n",
    "    \n",
    "    cosmoStruct['hubbleE'] = np.zeros(nRed) # Hubble e-factor\n",
    "    cosmoStruct['distM'] = np.zeros(nRed) # Co-moving distance\n",
    "    cosmoStruct['xCorr'] = np.zeros(nRed) # xCorr * angular distance = transverse physical distance\n",
    "    cosmoStruct['yCorr'] = np.zeros(nRed)  # yCorr * frequency width = radial physical distance\n",
    "   \n",
    "    for i in 0,range(nRed):\n",
    "        hubbleE=np.sqrt(omegaM*(1+zRed[i])**3+omegaV)\n",
    "        yCorr=speedC*(1+zRed[i])**2/(H0*restFreq*cosmoStruct['hubbleE'][i])\n",
    "        distM = (speedC/H0)*(zRed[i]/nIters)*sum((omegaM*(1+zRed[i]*((nIter+1)/nIters))**3+omegaV)**-0.5)\n",
    "        #distM(idx) = (speedC/H0)*(zRed(idx)/nIters)*sum((omegaM*(1+zRed(idx)*((0.5:nIters)./nIters)).^3+omegaV).^-0.5);\n",
    "        xCorr = distM[i]\n",
    "   \n",
    "\n",
    "           ##CHECK WITH KARTO\n",
    "        lumDist = distM*(1+zRed)**2\n",
    "    \n",
    "\n",
    "    cosmoStruct['hubbleE'][i] = hubbleE\n",
    "   # cosmoStruct['distM'] = distM \n",
    "   # cosmoStruct['xCorr'] = xCorr\n",
    "    cosmoStruct['yCorr'][i] = yCorr\n",
    "    \n",
    "    return(cosmoStruct)"
   ]
  },
  {
   "cell_type": "code",
   "execution_count": 10,
   "metadata": {},
   "outputs": [
    {
     "name": "stderr",
     "output_type": "stream",
     "text": [
      "/Users/mfuchs/anaconda/lib/python3.6/site-packages/ipykernel_launcher.py:25: RuntimeWarning: divide by zero encountered in true_divide\n"
     ]
    },
    {
     "ename": "NameError",
     "evalue": "name 'nIter' is not defined",
     "output_type": "error",
     "traceback": [
      "\u001b[0;31m---------------------------------------------------------------------------\u001b[0m",
      "\u001b[0;31mNameError\u001b[0m                                 Traceback (most recent call last)",
      "\u001b[0;32m<ipython-input-10-5a68e454404a>\u001b[0m in \u001b[0;36m<module>\u001b[0;34m()\u001b[0m\n\u001b[0;32m----> 1\u001b[0;31m \u001b[0mcosmo_struc\u001b[0m\u001b[0;34m(\u001b[0m\u001b[0mfreqEmit\u001b[0m\u001b[0;34m,\u001b[0m \u001b[0mfreqEmit\u001b[0m\u001b[0;34m)\u001b[0m\u001b[0;34m\u001b[0m\u001b[0m\n\u001b[0m",
      "\u001b[0;32m<ipython-input-9-8696fa244d3d>\u001b[0m in \u001b[0;36mcosmo_struc\u001b[0;34m(zRed, restFreq)\u001b[0m\n\u001b[1;32m     24\u001b[0m         \u001b[0mhubbleE\u001b[0m\u001b[0;34m=\u001b[0m\u001b[0mnp\u001b[0m\u001b[0;34m.\u001b[0m\u001b[0msqrt\u001b[0m\u001b[0;34m(\u001b[0m\u001b[0momegaM\u001b[0m\u001b[0;34m*\u001b[0m\u001b[0;34m(\u001b[0m\u001b[0;36m1\u001b[0m\u001b[0;34m+\u001b[0m\u001b[0mzRed\u001b[0m\u001b[0;34m[\u001b[0m\u001b[0mi\u001b[0m\u001b[0;34m]\u001b[0m\u001b[0;34m)\u001b[0m\u001b[0;34m**\u001b[0m\u001b[0;36m3\u001b[0m\u001b[0;34m+\u001b[0m\u001b[0momegaV\u001b[0m\u001b[0;34m)\u001b[0m\u001b[0;34m\u001b[0m\u001b[0m\n\u001b[1;32m     25\u001b[0m         \u001b[0myCorr\u001b[0m\u001b[0;34m=\u001b[0m\u001b[0mspeedC\u001b[0m\u001b[0;34m*\u001b[0m\u001b[0;34m(\u001b[0m\u001b[0;36m1\u001b[0m\u001b[0;34m+\u001b[0m\u001b[0mzRed\u001b[0m\u001b[0;34m[\u001b[0m\u001b[0mi\u001b[0m\u001b[0;34m]\u001b[0m\u001b[0;34m)\u001b[0m\u001b[0;34m**\u001b[0m\u001b[0;36m2\u001b[0m\u001b[0;34m/\u001b[0m\u001b[0;34m(\u001b[0m\u001b[0mH0\u001b[0m\u001b[0;34m*\u001b[0m\u001b[0mrestFreq\u001b[0m\u001b[0;34m*\u001b[0m\u001b[0mcosmoStruct\u001b[0m\u001b[0;34m[\u001b[0m\u001b[0;34m'hubbleE'\u001b[0m\u001b[0;34m]\u001b[0m\u001b[0;34m[\u001b[0m\u001b[0mi\u001b[0m\u001b[0;34m]\u001b[0m\u001b[0;34m)\u001b[0m\u001b[0;34m\u001b[0m\u001b[0m\n\u001b[0;32m---> 26\u001b[0;31m         \u001b[0mdistM\u001b[0m \u001b[0;34m=\u001b[0m \u001b[0;34m(\u001b[0m\u001b[0mspeedC\u001b[0m\u001b[0;34m/\u001b[0m\u001b[0mH0\u001b[0m\u001b[0;34m)\u001b[0m\u001b[0;34m*\u001b[0m\u001b[0;34m(\u001b[0m\u001b[0mzRed\u001b[0m\u001b[0;34m[\u001b[0m\u001b[0mi\u001b[0m\u001b[0;34m]\u001b[0m\u001b[0;34m/\u001b[0m\u001b[0mnIters\u001b[0m\u001b[0;34m)\u001b[0m\u001b[0;34m*\u001b[0m\u001b[0msum\u001b[0m\u001b[0;34m(\u001b[0m\u001b[0;34m(\u001b[0m\u001b[0momegaM\u001b[0m\u001b[0;34m*\u001b[0m\u001b[0;34m(\u001b[0m\u001b[0;36m1\u001b[0m\u001b[0;34m+\u001b[0m\u001b[0mzRed\u001b[0m\u001b[0;34m[\u001b[0m\u001b[0mi\u001b[0m\u001b[0;34m]\u001b[0m\u001b[0;34m*\u001b[0m\u001b[0;34m(\u001b[0m\u001b[0;34m(\u001b[0m\u001b[0mnIter\u001b[0m\u001b[0;34m+\u001b[0m\u001b[0;36m1\u001b[0m\u001b[0;34m)\u001b[0m\u001b[0;34m/\u001b[0m\u001b[0mnIters\u001b[0m\u001b[0;34m)\u001b[0m\u001b[0;34m)\u001b[0m\u001b[0;34m**\u001b[0m\u001b[0;36m3\u001b[0m\u001b[0;34m+\u001b[0m\u001b[0momegaV\u001b[0m\u001b[0;34m)\u001b[0m\u001b[0;34m**\u001b[0m\u001b[0;34m-\u001b[0m\u001b[0;36m0.5\u001b[0m\u001b[0;34m)\u001b[0m\u001b[0;34m\u001b[0m\u001b[0m\n\u001b[0m\u001b[1;32m     27\u001b[0m         \u001b[0;31m#distM(idx) = (speedC/H0)*(zRed(idx)/nIters)*sum((omegaM*(1+zRed(idx)*((0.5:nIters)./nIters)).^3+omegaV).^-0.5);\u001b[0m\u001b[0;34m\u001b[0m\u001b[0;34m\u001b[0m\u001b[0m\n\u001b[1;32m     28\u001b[0m         \u001b[0mxCorr\u001b[0m \u001b[0;34m=\u001b[0m \u001b[0mdistM\u001b[0m\u001b[0;34m[\u001b[0m\u001b[0mi\u001b[0m\u001b[0;34m]\u001b[0m\u001b[0;34m\u001b[0m\u001b[0m\n",
      "\u001b[0;31mNameError\u001b[0m: name 'nIter' is not defined"
     ]
    }
   ],
   "source": [
    "cosmo_struc(freqEmit, freqEmit)"
   ]
  },
  {
   "cell_type": "code",
   "execution_count": 13,
   "metadata": {},
   "outputs": [
    {
     "ename": "TypeError",
     "evalue": "unsupported operand type(s) for ^: 'float' and 'int'",
     "output_type": "error",
     "traceback": [
      "\u001b[0;31m---------------------------------------------------------------------------\u001b[0m",
      "\u001b[0;31mTypeError\u001b[0m                                 Traceback (most recent call last)",
      "\u001b[0;32m<ipython-input-13-0423b95b0728>\u001b[0m in \u001b[0;36m<module>\u001b[0;34m()\u001b[0m\n\u001b[0;32m----> 1\u001b[0;31m \u001b[0mcosmo_struc\u001b[0m\u001b[0;34m(\u001b[0m\u001b[0;36m.1\u001b[0m\u001b[0;34m,\u001b[0m\u001b[0;36m230\u001b[0m\u001b[0;34m)\u001b[0m\u001b[0;34m\u001b[0m\u001b[0m\n\u001b[0m",
      "\u001b[0;32m<ipython-input-12-6d7c9cb6dcb2>\u001b[0m in \u001b[0;36mcosmo_struc\u001b[0;34m(zRed, restFreq)\u001b[0m\n\u001b[1;32m      8\u001b[0m     \u001b[0mnIters\u001b[0m \u001b[0;34m=\u001b[0m \u001b[0;36m1000\u001b[0m\u001b[0;34m\u001b[0m\u001b[0m\n\u001b[1;32m      9\u001b[0m    \u001b[0;31m# transName = 'UNK'\u001b[0m\u001b[0;34m\u001b[0m\u001b[0;34m\u001b[0m\u001b[0m\n\u001b[0;32m---> 10\u001b[0;31m     \u001b[0mspeedC\u001b[0m \u001b[0;34m=\u001b[0m \u001b[0;36m2.9979\u001b[0m\u001b[0;34m*\u001b[0m\u001b[0;36m10\u001b[0m\u001b[0;34m^\u001b[0m\u001b[0;36m5\u001b[0m\u001b[0;34m;\u001b[0m \u001b[0;31m# Hubble constant is in km/sec/Mpc, so c needs to be in kps\u001b[0m\u001b[0;34m\u001b[0m\u001b[0m\n\u001b[0m\u001b[1;32m     11\u001b[0m \u001b[0;34m\u001b[0m\u001b[0m\n\u001b[1;32m     12\u001b[0m     \u001b[0;31m#Set up empty arrays for each value we are interested in\u001b[0m\u001b[0;34m\u001b[0m\u001b[0;34m\u001b[0m\u001b[0m\n",
      "\u001b[0;31mTypeError\u001b[0m: unsupported operand type(s) for ^: 'float' and 'int'"
     ]
    }
   ],
   "source": []
  },
  {
   "cell_type": "code",
   "execution_count": null,
   "metadata": {
    "collapsed": true
   },
   "outputs": [],
   "source": []
  },
  {
   "cell_type": "code",
   "execution_count": 4,
   "metadata": {},
   "outputs": [
    {
     "ename": "SyntaxError",
     "evalue": "invalid syntax (<ipython-input-4-4185b132fde8>, line 1)",
     "output_type": "error",
     "traceback": [
      "\u001b[0;36m  File \u001b[0;32m\"<ipython-input-4-4185b132fde8>\"\u001b[0;36m, line \u001b[0;32m1\u001b[0m\n\u001b[0;31m    def cosmoStruc = calc_cosmovals(zRed,restFreq,varargin)\u001b[0m\n\u001b[0m                   ^\u001b[0m\n\u001b[0;31mSyntaxError\u001b[0m\u001b[0;31m:\u001b[0m invalid syntax\n"
     ]
    }
   ],
   "source": [
    "cosmoStruc = calc_cosmovals(zRed,restFreq,varargin)\n",
    "\n",
    "H0 = 100;\n",
    "omegaM = 0.27;\n",
    "omegaV = 0.73;\n",
    "nIters = 1000;\n",
    "transName = 'UNK';\n",
    "speedC = 2.9979*10^5; % Hubble constant is in km/sec/Mpc, so c needs to be in kps\n",
    "\n",
    "\n",
    "for idx=1:nRed\n",
    "    hubbleE[i] = sqrt(omegaM*(1+zRed(idx))^3+omegaV)\n",
    "    yCorr[i] = speedC*(1+zRed(idx))^2/(H0*restFreq*hubbleE(idx))\n",
    "    distM[i] = (speedC/H0)*(zRed[i]/nIters)*sum((omegaM*(1+zRed[i]*((nIters)/nIters))**3+omegaV)**-0.5)\n",
    "    #distM(idx) = (speedC/H0)*(zRed(idx)/nIters)*sum((omegaM*(1+zRed(idx)*((0.5:nIters)./nIters)).^3+omegaV).^-0.5);\n",
    "    xCorr[i] = distM[i]\n",
    "end\n",
    "\n",
    "cosmoStruc = struct(...\n",
    "    'zRed',zRed,...\n",
    "    'restFreq',restFreq,...\n",
    "    'obsFreq',obsFreq,...\n",
    "    'transName',transName,...\n",
    "    'H0',H0,...\n",
    "    'omegaM',omegaM,...\n",
    "    'omegaV',omegaV,...\n",
    "    'hubbleE',hubbleE,...\n",
    "    'distM',distM,...\n",
    "    'xCorr',xCorr,...\n",
    "    'yCorr',yCorr);\n",
    "end\n"
   ]
  },
  {
   "cell_type": "code",
   "execution_count": null,
   "metadata": {
    "collapsed": true
   },
   "outputs": [],
   "source": []
  }
 ],
 "metadata": {
  "kernelspec": {
   "display_name": "Python 3",
   "language": "python",
   "name": "python3"
  },
  "language_info": {
   "codemirror_mode": {
    "name": "ipython",
    "version": 3
   },
   "file_extension": ".py",
   "mimetype": "text/x-python",
   "name": "python",
   "nbconvert_exporter": "python",
   "pygments_lexer": "ipython3",
   "version": "3.6.1"
  }
 },
 "nbformat": 4,
 "nbformat_minor": 2
}
