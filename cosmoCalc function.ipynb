{
 "cells": [
  {
   "cell_type": "code",
   "execution_count": 12,
   "metadata": {},
   "outputs": [],
   "source": [
    "\n",
    "\n",
    "\n",
    "def cosmo_struc(zRed,restFreq):\n",
    "    H0 = 100\n",
    "    omegaM = 0.27\n",
    "    omegaV = 0.73\n",
    "    nIters = 1000\n",
    "   # transName = 'UNK'\n",
    "    speedC = 2.9979*10^5; # Hubble constant is in km/sec/Mpc, so c needs to be in kps\n",
    "    \n",
    "    #Set up empty arrays for each value we are interested in\n",
    "    cosmoStruct={} \n",
    "    nRed = len(zRed) # Number of redshifts\n",
    "    obsFreq = restFreq/(1+zRed) # Obs freq at given redshift\n",
    "    \n",
    "    cosmoStruct['hubbleE'] = np.zeros(nRed) # Hubble e-factor\n",
    "    cosmoStruct['distM'] = np.zeros(nRed) # Co-moving distance\n",
    "    cosmoStruct['xCorr'] = np.zeros(nRed) # xCorr * angular distance = transverse physical distance\n",
    "    cosmoStruct['yCorr'] = np.zeros(nRed)  # yCorr * frequency width = radial physical distance\n",
    "   \n",
    "    for i in range(nRed):\n",
    "        hubblE[i]=sqrt(omegaM*(1+zRed[i])**3+omegaV)\n",
    "        yCorr[i]=speedC*(1+zRed[i])^2/(H0*restFreq*hubbleE[i])\n",
    "        distM[i] = (speedC/H0)*(zRed[i]/nIters)*sum((omegaM*(1+zRed[i]*((nIters)/nIters))**3+omegaV)**-0.5)\n",
    "        #distM(idx) = (speedC/H0)*(zRed(idx)/nIters)*sum((omegaM*(1+zRed(idx)*((0.5:nIters)./nIters)).^3+omegaV).^-0.5);\n",
    "        xCorr[i] = distM[i]\n",
    "   \n",
    "\n",
    "\n",
    "    cosmoStruct['hubbleE'] = hubbleE\n",
    "    cosmoStruct['distM'] = distM \n",
    "    cosmoStruct['xCorr'] = xCorr\n",
    "    cosmoStruct['yCorr'] = yCorr\n",
    "    \n",
    "    return(cosmoStruct)"
   ]
  },
  {
   "cell_type": "code",
   "execution_count": 13,
   "metadata": {},
   "outputs": [
    {
     "ename": "TypeError",
     "evalue": "unsupported operand type(s) for ^: 'float' and 'int'",
     "output_type": "error",
     "traceback": [
      "\u001b[0;31m---------------------------------------------------------------------------\u001b[0m",
      "\u001b[0;31mTypeError\u001b[0m                                 Traceback (most recent call last)",
      "\u001b[0;32m<ipython-input-13-0423b95b0728>\u001b[0m in \u001b[0;36m<module>\u001b[0;34m()\u001b[0m\n\u001b[0;32m----> 1\u001b[0;31m \u001b[0mcosmo_struc\u001b[0m\u001b[0;34m(\u001b[0m\u001b[0;36m.1\u001b[0m\u001b[0;34m,\u001b[0m\u001b[0;36m230\u001b[0m\u001b[0;34m)\u001b[0m\u001b[0;34m\u001b[0m\u001b[0m\n\u001b[0m",
      "\u001b[0;32m<ipython-input-12-6d7c9cb6dcb2>\u001b[0m in \u001b[0;36mcosmo_struc\u001b[0;34m(zRed, restFreq)\u001b[0m\n\u001b[1;32m      8\u001b[0m     \u001b[0mnIters\u001b[0m \u001b[0;34m=\u001b[0m \u001b[0;36m1000\u001b[0m\u001b[0;34m\u001b[0m\u001b[0m\n\u001b[1;32m      9\u001b[0m    \u001b[0;31m# transName = 'UNK'\u001b[0m\u001b[0;34m\u001b[0m\u001b[0;34m\u001b[0m\u001b[0m\n\u001b[0;32m---> 10\u001b[0;31m     \u001b[0mspeedC\u001b[0m \u001b[0;34m=\u001b[0m \u001b[0;36m2.9979\u001b[0m\u001b[0;34m*\u001b[0m\u001b[0;36m10\u001b[0m\u001b[0;34m^\u001b[0m\u001b[0;36m5\u001b[0m\u001b[0;34m;\u001b[0m \u001b[0;31m# Hubble constant is in km/sec/Mpc, so c needs to be in kps\u001b[0m\u001b[0;34m\u001b[0m\u001b[0m\n\u001b[0m\u001b[1;32m     11\u001b[0m \u001b[0;34m\u001b[0m\u001b[0m\n\u001b[1;32m     12\u001b[0m     \u001b[0;31m#Set up empty arrays for each value we are interested in\u001b[0m\u001b[0;34m\u001b[0m\u001b[0;34m\u001b[0m\u001b[0m\n",
      "\u001b[0;31mTypeError\u001b[0m: unsupported operand type(s) for ^: 'float' and 'int'"
     ]
    }
   ],
   "source": []
  },
  {
   "cell_type": "code",
   "execution_count": null,
   "metadata": {
    "collapsed": true
   },
   "outputs": [],
   "source": []
  },
  {
   "cell_type": "code",
   "execution_count": 4,
   "metadata": {},
   "outputs": [
    {
     "ename": "SyntaxError",
     "evalue": "invalid syntax (<ipython-input-4-4185b132fde8>, line 1)",
     "output_type": "error",
     "traceback": [
      "\u001b[0;36m  File \u001b[0;32m\"<ipython-input-4-4185b132fde8>\"\u001b[0;36m, line \u001b[0;32m1\u001b[0m\n\u001b[0;31m    def cosmoStruc = calc_cosmovals(zRed,restFreq,varargin)\u001b[0m\n\u001b[0m                   ^\u001b[0m\n\u001b[0;31mSyntaxError\u001b[0m\u001b[0;31m:\u001b[0m invalid syntax\n"
     ]
    }
   ],
   "source": [
    "cosmoStruc = calc_cosmovals(zRed,restFreq,varargin)\n",
    "\n",
    "H0 = 100;\n",
    "omegaM = 0.27;\n",
    "omegaV = 0.73;\n",
    "nIters = 1000;\n",
    "transName = 'UNK';\n",
    "speedC = 2.9979*10^5; % Hubble constant is in km/sec/Mpc, so c needs to be in kps\n",
    "\n",
    "\n",
    "for idx=1:nRed\n",
    "    hubbleE[i] = sqrt(omegaM*(1+zRed(idx))^3+omegaV)\n",
    "    yCorr[i] = speedC*(1+zRed(idx))^2/(H0*restFreq*hubbleE(idx))\n",
    "    distM[i] = (speedC/H0)*(zRed[i]/nIters)*sum((omegaM*(1+zRed[i]*((nIters)/nIters))**3+omegaV)**-0.5)\n",
    "    #distM(idx) = (speedC/H0)*(zRed(idx)/nIters)*sum((omegaM*(1+zRed(idx)*((0.5:nIters)./nIters)).^3+omegaV).^-0.5);\n",
    "    xCorr[i] = distM[i]\n",
    "end\n",
    "\n",
    "cosmoStruc = struct(...\n",
    "    'zRed',zRed,...\n",
    "    'restFreq',restFreq,...\n",
    "    'obsFreq',obsFreq,...\n",
    "    'transName',transName,...\n",
    "    'H0',H0,...\n",
    "    'omegaM',omegaM,...\n",
    "    'omegaV',omegaV,...\n",
    "    'hubbleE',hubbleE,...\n",
    "    'distM',distM,...\n",
    "    'xCorr',xCorr,...\n",
    "    'yCorr',yCorr);\n",
    "end\n"
   ]
  },
  {
   "cell_type": "code",
   "execution_count": null,
   "metadata": {
    "collapsed": true
   },
   "outputs": [],
   "source": []
  }
 ],
 "metadata": {
  "kernelspec": {
   "display_name": "Python 3",
   "language": "python",
   "name": "python3"
  },
  "language_info": {
   "codemirror_mode": {
    "name": "ipython",
    "version": 3
   },
   "file_extension": ".py",
   "mimetype": "text/x-python",
   "name": "python",
   "nbconvert_exporter": "python",
   "pygments_lexer": "ipython3",
   "version": "3.6.1"
  }
 },
 "nbformat": 4,
 "nbformat_minor": 2
}
