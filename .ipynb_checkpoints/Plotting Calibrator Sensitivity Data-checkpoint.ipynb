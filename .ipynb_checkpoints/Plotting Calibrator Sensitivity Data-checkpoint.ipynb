{
 "cells": [
  {
   "cell_type": "code",
   "execution_count": 57,
   "metadata": {},
   "outputs": [],
   "source": [
    "import pickle as pickle\n",
    "import numpy as np\n",
    "import matplotlib.pyplot as plt\n",
    "from pprint import pprint as pp\n",
    "import math as math\n",
    "from matplotlib.ticker import FuncFormatter, MaxNLocator"
   ]
  },
  {
   "cell_type": "code",
   "execution_count": 51,
   "metadata": {},
   "outputs": [],
   "source": [
    "f=open('cal_sensitivity_data.p','rb')\n",
    "cal_sigma=pickle.load(f, encoding='latin1') #dictionary with sensitivities for each frequency bin for each calibrator\n",
    "f.close()\n"
   ]
  },
  {
   "cell_type": "code",
   "execution_count": 52,
   "metadata": {
    "collapsed": true
   },
   "outputs": [],
   "source": [
    "#cal_sig= np.array(list(cal_sigma.items()) #convert dictionary to array\n",
    "                \n",
    "N_freq=len(cal_sigma['3c84']) \n",
    "N_sources=len(cal_sigma.keys())\n",
    "cal_sig_array =np.zeros([N_freq,N_sources]) \n",
    "\n",
    "for x,source in enumerate(cal_sigma.keys()):\n",
    "    for y in range(N_freq):\n",
    "        cal_sig_array[y,x]=cal_sigma[source][y]\n",
    "        \n",
    "    \n",
    "cal_sig_array[np.where(cal_sig_array!=cal_sig_array)]=1000000.\n",
    "    "
   ]
  },
  {
   "cell_type": "code",
   "execution_count": 53,
   "metadata": {},
   "outputs": [
    {
     "name": "stdout",
     "output_type": "stream",
     "text": [
      "[[0.011887261180638006, 0.0097584939200918812, 0.0097357732980649543, 0.009713210641319945, 0.0096908041278756015, 0.0096685519650363556, 0.0096464523887898838, 0.0096245036632197356, 0.016898262598483163, 0.011464466918333466, 0.0094129502762978021, 0.0093925538270295643, 0.0093722893938710718, 0.0093521555588151634, 0.009332150925086935, 0.0093122741167367493, 0.0092925237782427034, 0.016317890653537635]]\n"
     ]
    }
   ],
   "source": [
    "\n",
    "#sigma_bin=np.where(list(cal_sigma.values())[0] is not None)\n",
    "#print(sigma_bin)\n",
    "#print(list(cal_sigma.values())[0])\n",
    "\n",
    "sigma_val_floats = []\n",
    "sigma_val_floats_include=[x for x in list(cal_sigma.values())[0] if x is not None]\n",
    "sigma_val_floats.append(sigma_val_floats_include)\n",
    "print(sigma_val_floats)\n"
   ]
  },
  {
   "cell_type": "code",
   "execution_count": 124,
   "metadata": {},
   "outputs": [],
   "source": [
    "sensitivity_threshold=np.geomspace(.1,100,31)\n",
    "\n",
    "#binStruct= {}\n",
    "#binStruct['sensitivity']=np.zeros(len(sensitivity_threshold))\n",
    "#binStruct['bin_count']=np.zeros(len(sensitivity_threshold))\n",
    "N_freq=len(cal_sigma['3c84'])\n",
    "N_threshold=len(sensitivity_threshold)\n",
    "binned_array = np.zeros(shape=(N_freq,N_threshold))\n",
    "\n",
    " #first loop is going thru each frequency bin    \n",
    "for i in range(N_freq):\n",
    "  \n",
    " \n",
    "    #sigma_bin=[x for x in cal_sig_array if np.isnan(cal_sig_array)==False]\n",
    "    #sigma_bin=np.where(np.isnan(cal_sig_array)==False)\n",
    "    \n",
    "    #sigma_bin=np.array(sigma_bin)\n",
    "   # bin_count_per_threshold = []\n",
    "\n",
    "    #second loop is going thru each sensitivity threshold\n",
    "    for j in range(N_threshold):\n",
    "        binned_array[i,j]=np.sum(cal_sig_array[i]*1500<=sensitivity_threshold[j]) #factor of 1500 to take into account 300 kn/s and 5 sigma detection\n",
    "\n",
    "\n",
    "    \n",
    "\n",
    "            "
   ]
  },
  {
   "cell_type": "code",
   "execution_count": 116,
   "metadata": {},
   "outputs": [
    {
     "name": "stdout",
     "output_type": "stream",
     "text": [
      "3.16227766017\n",
      "[   0.1           0.12589254    0.15848932    0.19952623    0.25118864\n",
      "    0.31622777    0.39810717    0.50118723    0.63095734    0.79432823\n",
      "    1.            1.25892541    1.58489319    1.99526231    2.51188643\n",
      "    3.16227766    3.98107171    5.01187234    6.30957344    7.94328235\n",
      "   10.           12.58925412   15.84893192   19.95262315   25.11886432\n",
      "   31.6227766    39.81071706   50.11872336   63.09573445   79.43282347\n",
      "  100.        ]\n",
      "31\n",
      "0.501187233627\n",
      "3.16227766017\n",
      "12.5892541179\n",
      "63.095734448\n"
     ]
    }
   ],
   "source": [
    "print(np.median(sensitivity_threshold)*1000.)\n",
    "print(sensitivity_threshold*1000.)\n",
    "print(len(sensitivity_threshold))\n",
    "print(sensitivity_threshold[7]*1000.)\n",
    "print(sensitivity_threshold[15]*1000.)\n",
    "print(sensitivity_threshold[21]*1000.)\n",
    "print(sensitivity_threshold[28]*1000.)\n"
   ]
  },
  {
   "cell_type": "code",
   "execution_count": 145,
   "metadata": {},
   "outputs": [
    {
     "name": "stderr",
     "output_type": "stream",
     "text": [
      "/Users/mfuchs/anaconda/lib/python3.6/site-packages/ipykernel_launcher.py:4: RuntimeWarning: divide by zero encountered in log10\n",
      "  after removing the cwd from sys.path.\n"
     ]
    },
    {
     "name": "stdout",
     "output_type": "stream",
     "text": [
      "['0.10', '0.13', '0.16', '0.20', '0.25', '0.32', '0.40', '0.50', '0.63', '0.79', '1.00', '1.26', '1.58', '2.00', '2.51', '3.16', '3.98', '5.01', '6.31', '7.94', '10.00', '12.59', '15.85', '19.95', '25.12', '31.62', '39.81', '50.12', '63.10', '79.43', '100.00']\n"
     ]
    },
    {
     "data": {
      "image/png": "[encoded data removed]",
      "text/plain": [
       "<matplotlib.figure.Figure at 0x117ee37f0>"
      ]
     },
     "metadata": {},
     "output_type": "display_data"
    }
   ],
   "source": [
    "\n",
    "fig = plt.figure()\n",
    "ax = fig.add_subplot(1, 1,1)\n",
    "plot = ax.imshow(np.transpose(np.log10(binned_array)),extent=[190,371,100,.1],aspect='auto')\n",
    "\n",
    "fig.colorbar(plot)\n",
    "ax.set_yticklabels([.1,.5,3,13,63,100])\n",
    "\n",
    "\n",
    "#plt.yscale('log')\n",
    "#extent=[horizontal_min,horizontal_max,vertical_min,vertical_max].\n",
    "\n",
    "y_label=['{:.2f}'.format(x) for x in sensitivity_threshold]\n",
    "print(y_label)\n",
    "#plt.Axes.set_yticklabels('.1.003.0001')\n",
    "#plt.yticks(sensitivity_threshold)\n",
    "#y_label=[.1,.003,0.0001])\n",
    "\n",
    "#plt.axes.set_yticklabels('',y_label)\n",
    "#ax1.set_xticklabels\n",
    "#plt.Axes.axes('Frequency [GHz]')\n",
    "#plt.colorbar()\n",
    "plt.show()\n",
    "\n",
    "\n",
    "\n",
    "\n",
    "\n",
    "# Major ticks\n",
    "#ax.set_xticks(np.arange(0, 10, 1));\n",
    "#ax.set_yticks(np.arange(0, 10, 1));\n",
    "\n",
    "# Labels for major ticks\n",
    "#ax.set_xticklabels(np.arange(1, 11, 1));\n",
    "ax.set_yticklabels(y_label);\n"
   ]
  },
  {
   "cell_type": "code",
   "execution_count": 91,
   "metadata": {},
   "outputs": [],
   "source": [
    "'''\n",
    "ax = plt.gca()\n",
    "\n",
    "plot=plt.imshow(np.transpose(binned_array),extent=[190,371,100,.1],aspect='auto')\n",
    "#plt.yscale('log')\n",
    "#extent=[horizontal_min,horizontal_max,vertical_min,vertical_max].\n",
    "\n",
    "y_label=['{:.2f}'.format(x) for x in sensitivity_threshold]\n",
    "\n",
    "#plt.Axes.set_yticklabels('.1.003.0001')\n",
    "#plt.yticks(sensitivity_threshold)\n",
    "#y_label=[.1,.003,0.0001])\n",
    "\n",
    "#plt.axes.set_yticklabels('',y_label)\n",
    "#ax1.set_xticklabels\n",
    "#plt.Axes.axes('Frequency [GHz]')\n",
    "#plt.colorbar()\n",
    "#plt.show()\n",
    "\n",
    "ax1.set_yticklabels(y_label)\n",
    "\n",
    "\n",
    "\n",
    "# Major ticks\n",
    "#ax.set_xticks(np.arange(0, 10, 1));\n",
    "#ax.set_yticks(np.arange(0, 10, 1));\n",
    "\n",
    "# Labels for major ticks\n",
    "#ax.set_xticklabels(np.arange(1, 11, 1));\n",
    "ax.set_yticklabels(sensitivity_threshold);'''"
   ]
  },
  {
   "cell_type": "code",
   "execution_count": null,
   "metadata": {},
   "outputs": [],
   "source": []
  },
  {
   "cell_type": "code",
   "execution_count": 128,
   "metadata": {},
   "outputs": [],
   "source": [
    "freq_bin=np.array(range(190,371,1))\n"
   ]
  },
  {
   "cell_type": "code",
   "execution_count": 156,
   "metadata": {},
   "outputs": [
    {
     "ename": "AttributeError",
     "evalue": "module 'matplotlib.pyplot' has no attribute 'xtitle'",
     "output_type": "error",
     "traceback": [
      "\u001b[0;31m---------------------------------------------------------------------------\u001b[0m",
      "\u001b[0;31mAttributeError\u001b[0m                            Traceback (most recent call last)",
      "\u001b[0;32m<ipython-input-156-7b2672d10985>\u001b[0m in \u001b[0;36m<module>\u001b[0;34m()\u001b[0m\n\u001b[1;32m      1\u001b[0m \u001b[0mplt\u001b[0m\u001b[0;34m.\u001b[0m\u001b[0mcontour\u001b[0m\u001b[0;34m(\u001b[0m\u001b[0mnp\u001b[0m\u001b[0;34m.\u001b[0m\u001b[0mlog10\u001b[0m\u001b[0;34m(\u001b[0m\u001b[0msensitivity_threshold\u001b[0m\u001b[0;34m)\u001b[0m\u001b[0;34m,\u001b[0m \u001b[0mfreq_bin\u001b[0m\u001b[0;34m,\u001b[0m\u001b[0mbinned_array\u001b[0m\u001b[0;34m,\u001b[0m\u001b[0;34m[\u001b[0m\u001b[0;36m1\u001b[0m\u001b[0;34m,\u001b[0m\u001b[0;36m10\u001b[0m\u001b[0;34m,\u001b[0m\u001b[0;36m100\u001b[0m\u001b[0;34m]\u001b[0m\u001b[0;34m)\u001b[0m\u001b[0;34m\u001b[0m\u001b[0m\n\u001b[1;32m      2\u001b[0m \u001b[0mplt\u001b[0m\u001b[0;34m.\u001b[0m\u001b[0mtitle\u001b[0m\u001b[0;34m(\u001b[0m\u001b[0;34m'Contour Plot for Sensitivity Thresholds for Calibrator Fields'\u001b[0m\u001b[0;34m)\u001b[0m\u001b[0;34m\u001b[0m\u001b[0m\n\u001b[0;32m----> 3\u001b[0;31m \u001b[0mplt\u001b[0m\u001b[0;34m.\u001b[0m\u001b[0mxtitle\u001b[0m\u001b[0;34m(\u001b[0m\u001b[0;34m'Log Scale of Sensitivity Thresholds'\u001b[0m\u001b[0;34m)\u001b[0m\u001b[0;34m\u001b[0m\u001b[0m\n\u001b[0m\u001b[1;32m      4\u001b[0m \u001b[0mplt\u001b[0m\u001b[0;34m.\u001b[0m\u001b[0mytitle\u001b[0m\u001b[0;34m(\u001b[0m\u001b[0;34m'Frequency [GHz]'\u001b[0m\u001b[0;34m)\u001b[0m\u001b[0;34m\u001b[0m\u001b[0m\n\u001b[1;32m      5\u001b[0m \u001b[0mplt\u001b[0m\u001b[0;34m.\u001b[0m\u001b[0mshow\u001b[0m\u001b[0;34m(\u001b[0m\u001b[0;34m)\u001b[0m\u001b[0;34m\u001b[0m\u001b[0m\n",
      "\u001b[0;31mAttributeError\u001b[0m: module 'matplotlib.pyplot' has no attribute 'xtitle'"
     ]
    }
   ],
   "source": [
    "plt.contour(np.log10(sensitivity_threshold), freq_bin,binned_array,[1,10,100])\n",
    "plt.title('Contour Plot for Sensitivity Thresholds for Calibrator Fields')\n",
    "plt.xtitle('Log Scale of Sensitivity Thresholds')\n",
    "plt.ytitle('Frequency')\n",
    "plt.show()\n"
   ]
  },
  {
   "cell_type": "code",
   "execution_count": null,
   "metadata": {
    "collapsed": true
   },
   "outputs": [],
   "source": [
    "#.1 is 20%, .3 is factor of 2, .5 is pi, 1 is 10"
   ]
  },
  {
   "cell_type": "code",
   "execution_count": null,
   "metadata": {
    "collapsed": true
   },
   "outputs": [],
   "source": []
  },
  {
   "cell_type": "code",
   "execution_count": null,
   "metadata": {
    "collapsed": true
   },
   "outputs": [],
   "source": [
    "\n"
   ]
  },
  {
   "cell_type": "code",
   "execution_count": null,
   "metadata": {
    "collapsed": true
   },
   "outputs": [],
   "source": []
  },
  {
   "cell_type": "code",
   "execution_count": null,
   "metadata": {
    "collapsed": true
   },
   "outputs": [],
   "source": []
  },
  {
   "cell_type": "code",
   "execution_count": null,
   "metadata": {},
   "outputs": [],
   "source": []
  },
  {
   "cell_type": "code",
   "execution_count": null,
   "metadata": {},
   "outputs": [],
   "source": [
    "\n"
   ]
  },
  {
   "cell_type": "code",
   "execution_count": null,
   "metadata": {},
   "outputs": [],
   "source": []
  },
  {
   "cell_type": "code",
   "execution_count": null,
   "metadata": {},
   "outputs": [],
   "source": []
  },
  {
   "cell_type": "code",
   "execution_count": null,
   "metadata": {},
   "outputs": [],
   "source": [
    "\n"
   ]
  },
  {
   "cell_type": "code",
   "execution_count": null,
   "metadata": {},
   "outputs": [],
   "source": [
    "\n"
   ]
  },
  {
   "cell_type": "code",
   "execution_count": 12,
   "metadata": {
    "collapsed": true
   },
   "outputs": [],
   "source": [
    "\n",
    "            \n",
    "\n"
   ]
  },
  {
   "cell_type": "code",
   "execution_count": null,
   "metadata": {},
   "outputs": [],
   "source": []
  },
  {
   "cell_type": "code",
   "execution_count": null,
   "metadata": {},
   "outputs": [],
   "source": []
  },
  {
   "cell_type": "code",
   "execution_count": null,
   "metadata": {},
   "outputs": [],
   "source": []
  },
  {
   "cell_type": "code",
   "execution_count": null,
   "metadata": {
    "scrolled": true
   },
   "outputs": [],
   "source": []
  },
  {
   "cell_type": "code",
   "execution_count": null,
   "metadata": {},
   "outputs": [],
   "source": [
    "'''print(cal_sigma['3c84'][50])\n",
    "#print(list(cal_sigma.values())[50])\n",
    "N=len(cal_sigma.keys())\n",
    "#print(N)\n",
    "N=len(cal_sigma.keys())\n",
    "vals=np.where(np.isnan(cal_sig_array)==False)\n",
    "\n",
    "y = [1,2,3,4,None]\n",
    "vals = []\n",
    "float_val = [x for x in y if x is not None]\n",
    "vals.append(float_val)\n",
    "\n",
    "a=np.array(range(190,371,1))\n",
    "where=np.where(a>300)\n",
    "print(where)\n",
    "print(a[where])\n",
    "print(len(a[where]))\n",
    "\n",
    "\n",
    "binned_array.shape\n",
    "\n",
    "len(np.where(sigma_bin > sensitivity_threshold[0]))\n",
    "\n",
    "freq_bin=np.array(range(190,371,1))\n",
    "len(freq_bin)\n",
    "\n",
    "\n",
    "plt.plot(freq_bin,cal_sigma['3c273'])\n",
    "cal_sigma.keys()\n",
    "plt.show()\n",
    "\n",
    "cal_sig_array.shape'''"
   ]
  },
  {
   "cell_type": "code",
   "execution_count": null,
   "metadata": {
    "collapsed": true
   },
   "outputs": [],
   "source": []
  }
 ],
 "metadata": {
  "kernelspec": {
   "display_name": "Python 3",
   "language": "python",
   "name": "python3"
  },
  "language_info": {
   "codemirror_mode": {
    "name": "ipython",
    "version": 3
   },
   "file_extension": ".py",
   "mimetype": "text/x-python",
   "name": "python",
   "nbconvert_exporter": "python",
   "pygments_lexer": "ipython3",
   "version": "3.6.1"
  }
 },
 "nbformat": 4,
 "nbformat_minor": 2
}
