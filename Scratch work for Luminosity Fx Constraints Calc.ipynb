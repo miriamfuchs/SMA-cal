{
 "cells": [
  {
   "cell_type": "code",
   "execution_count": 115,
   "metadata": {
    "collapsed": true
   },
   "outputs": [],
   "source": [
    "import pickle as pickle\n",
    "import numpy as np\n",
    "import matplotlib.pyplot as plt\n",
    "from pprint import pprint as pp\n",
    "import math as math\n",
    "from matplotlib.ticker import FuncFormatter, MaxNLocator\n",
    "import pandas as pd"
   ]
  },
  {
   "cell_type": "code",
   "execution_count": 2,
   "metadata": {
    "collapsed": true
   },
   "outputs": [],
   "source": [
    "f=open('cal_sensitivity_data.p','rb')\n",
    "cal_sigma=pickle.load(f, encoding='latin1') #dictionary with sensitivities for each frequency bin for each calibrator\n",
    "f.close()\n",
    "\n",
    "#cal_sig= np.array(list(cal_sigma.items()) #convert dictionary to array\n",
    "                \n",
    "N_freq=len(cal_sigma['3c84']) \n",
    "N_sources=len(cal_sigma.keys())\n",
    "cal_sig_array =np.zeros([N_freq,N_sources]) \n",
    "\n",
    "for x,source in enumerate(cal_sigma.keys()):\n",
    "    for y in range(N_freq):\n",
    "        cal_sig_array[y,x]=cal_sigma[source][y]\n",
    "        \n",
    "    \n",
    "cal_sig_array[np.where(cal_sig_array!=cal_sig_array)]=1000000.\n",
    "\n",
    "sensitivity_threshold=np.geomspace(.1,100,31) #create sensitivity thresholds \n",
    "\n",
    "#binStruct= {}\n",
    "#binStruct['sensitivity']=np.zeros(len(sensitivity_threshold))\n",
    "#binStruct['bin_count']=np.zeros(len(sensitivity_threshold))\n",
    "N_freq=len(cal_sigma['3c84'])\n",
    "N_threshold=len(sensitivity_threshold)\n",
    "binned_array = np.zeros(shape=(N_freq,N_threshold))\n",
    "\n",
    " #first loop is going thru each frequency bin    \n",
    "for i in range(N_freq):\n",
    "  \n",
    " \n",
    "    #sigma_bin=[x for x in cal_sig_array if np.isnan(cal_sig_array)==False]\n",
    "    #sigma_bin=np.where(np.isnan(cal_sig_array)==False)\n",
    "    \n",
    "    #sigma_bin=np.array(sigma_bin)\n",
    "   # bin_count_per_threshold = []\n",
    "\n",
    "    #second loop is going thru each sensitivity threshold \n",
    "    for j in range(N_threshold):\n",
    "        binned_array[i,j]=np.sum(cal_sig_array[i]*1500<=sensitivity_threshold[j]) #factor of 1500 to take into account 300 kn/s and 5 sigma detection\n",
    "\n"
   ]
  },
  {
   "cell_type": "code",
   "execution_count": 27,
   "metadata": {},
   "outputs": [
    {
     "data": {
      "text/plain": [
       "(181, 344)"
      ]
     },
     "execution_count": 27,
     "metadata": {},
     "output_type": "execute_result"
    }
   ],
   "source": [
    "cal_sig_array.shape  #(sensitivity for each sources (344?) for each freq bin (181) ? "
   ]
  },
  {
   "cell_type": "code",
   "execution_count": 48,
   "metadata": {},
   "outputs": [
    {
     "data": {
      "text/plain": [
       "(181, 31)"
      ]
     },
     "execution_count": 48,
     "metadata": {},
     "output_type": "execute_result"
    }
   ],
   "source": [
    "len(cal_sigma['3c84'])\n",
    "binned_array.shape"
   ]
  },
  {
   "cell_type": "code",
   "execution_count": 49,
   "metadata": {},
   "outputs": [],
   "source": [
    "#181 freq bins\n",
    "#344 sources\n",
    "#sensitivity threshold in Jy"
   ]
  },
  {
   "cell_type": "code",
   "execution_count": 225,
   "metadata": {},
   "outputs": [],
   "source": []
  },
  {
   "cell_type": "code",
   "execution_count": 234,
   "metadata": {},
   "outputs": [
    {
     "name": "stdout",
     "output_type": "stream",
     "text": [
      "[315 316 317 318 319 320 321 322 323 324 325 326 327 328 329 330 331 332\n",
      " 333 334 335 336 337 338 339 340 341 342 343 344 345 346 347 348 349 350\n",
      " 351 352 353 354 355 356 357 358 359 360 361 362 363 364 365 366 367 368\n",
      " 369 370 371 372 373 374 375 376 377 378 379 380]\n"
     ]
    }
   ],
   "source": []
  },
  {
   "cell_type": "code",
   "execution_count": 200,
   "metadata": {},
   "outputs": [
    {
     "data": {
      "text/plain": [
       "array([[  3863.3,   2064.4,      0. ],\n",
       "       [  1736.6,   5398.6,   1811.7],\n",
       "       [ 13324.6,   9284.5,   4086.2],\n",
       "       [ 82517.7,  65895.2,  42080.2]])"
      ]
     },
     "execution_count": 200,
     "metadata": {},
     "output_type": "execute_result"
    }
   ],
   "source": [
    "DL_array"
   ]
  },
  {
   "cell_type": "code",
   "execution_count": 3,
   "metadata": {},
   "outputs": [
    {
     "name": "stderr",
     "output_type": "stream",
     "text": [
      "/Users/mfuchs/anaconda/lib/python3.6/site-packages/ipykernel_launcher.py:4: RuntimeWarning: divide by zero encountered in log10\n",
      "  after removing the cwd from sys.path.\n"
     ]
    },
    {
     "name": "stdout",
     "output_type": "stream",
     "text": [
      "['0.10', '0.13', '0.16', '0.20', '0.25', '0.32', '0.40', '0.50', '0.63', '0.79', '1.00', '1.26', '1.58', '2.00', '2.51', '3.16', '3.98', '5.01', '6.31', '7.94', '10.00', '12.59', '15.85', '19.95', '25.12', '31.62', '39.81', '50.12', '63.10', '79.43', '100.00']\n"
     ]
    },
    {
     "data": {
      "image/png": "[encoded data removed]",
      "text/plain": [
       "<matplotlib.figure.Figure at 0x10cfd3b38>"
      ]
     },
     "metadata": {},
     "output_type": "display_data"
    }
   ],
   "source": [
    "\n",
    "fig = plt.figure()\n",
    "ax = fig.add_subplot(1, 1,1)\n",
    "plot = ax.imshow(np.transpose(np.log10(binned_array)),extent=[190,371,100,.1],aspect='auto')\n",
    "\n",
    "fig.colorbar(plot)\n",
    "ax.set_yticklabels([.1,.5,3,13,63,100])\n",
    "\n",
    "\n",
    "#plt.yscale('log')\n",
    "#extent=[horizontal_min,horizontal_max,vertical_min,vertical_max].\n",
    "\n",
    "y_label=['{:.2f}'.format(x) for x in sensitivity_threshold]\n",
    "print(y_label)\n",
    "\n",
    "#plt.xtitle('Sensitivity Thresholds')\n",
    "#plt.ytitle('Frequency')\n",
    "#plt.Axes.set_yticklabels('.1.003.0001')\n",
    "#plt.yticks(sensitivity_threshold)\n",
    "#y_label=[.1,.003,0.0001])\n",
    "\n",
    "#plt.axes.set_yticklabels('',y_label)\n",
    "#ax1.set_xticklabels\n",
    "#plt.Axes.axes('Frequency [GHz]')\n",
    "#plt.colorbar()\n",
    "ax.set_xlabel('Frequency [GHz]')\n",
    "ax.set_ylabel('Sensitivity Threshold')\n",
    "plt.title('Sensitivity Thresholds for Calibrator Fields')\n",
    "\n",
    "plt.savefig('SensitivityFig-fluxonly.png')\n",
    "plt.show()\n",
    "\n",
    "\n",
    "\n",
    "\n",
    "# Major ticks\n",
    "#ax.set_xticks(np.arange(0, 10, 1));\n",
    "#ax.set_yticks(np.arange(0, 10, 1));\n",
    "\n",
    "# Labels for major ticks\n",
    "#ax.set_xticklabels(np.arange(1, 11, 1));\n",
    "#ax.set_yticklabels(y_label);\n",
    "\n"
   ]
  },
  {
   "cell_type": "code",
   "execution_count": 186,
   "metadata": {},
   "outputs": [
    {
     "data": {
      "image/png": "[encoded data removed]",
      "text/plain": [
       "<matplotlib.figure.Figure at 0x11278fa90>"
      ]
     },
     "metadata": {},
     "output_type": "display_data"
    }
   ],
   "source": [
    "freq_bin=np.array(range(190,371,1))\n",
    "plt.contour(np.log10(sensitivity_threshold), freq_bin,binned_array,[1,10,100])\n",
    "plt.title('Contour Plot of Sensitivity Thresholds for Calibrator Fields')\n",
    "\n",
    "plt.savefig('SensitivityContourFig-fluxonly.png')\n",
    "plt.show()\n",
    "#.1 is 20%, .3 is factor of 2, .5 is pi, 1 is 10"
   ]
  },
  {
   "cell_type": "code",
   "execution_count": 199,
   "metadata": {},
   "outputs": [],
   "source": [
    "\n",
    "\n",
    "\n",
    "                \n",
    "\n",
    "\n"
   ]
  },
  {
   "cell_type": "code",
   "execution_count": null,
   "metadata": {},
   "outputs": [],
   "source": [
    "# Need to convert sensitivity calculations into luminosity function constraints\n",
    "# Create new bins for sensitivity values based on freq range\n",
    "\n",
    "#New freq observed arrays\n",
    "#190 to 214 GHz\n",
    "freqObs_190=np.array(range(60))+190\n",
    "#250 to 314 GHz\n",
    "freqObs_250=np.array(range(65))+250\n",
    "#315 to 350 GHz\n",
    "freqObs_315=np.array(range(66))+315\n",
    "\n"
   ]
  },
  {
   "cell_type": "code",
   "execution_count": 232,
   "metadata": {},
   "outputs": [],
   "source": [
    "# Step 1: Derive redshift values for different spectral lines: \n",
    "\n",
    "# CO(3-2) @ 345 GHz, CO(4-3) @ 461 GHz, CO(5-6) @ 576 GHz, CII @ 1896 GHZ\n",
    "freqEmit = np.array([345,461,575,1896])\n",
    "\n",
    "#CO(3-2)\n",
    "z_CO32_190 = (freqEmit[0]-freqObs_190)/(freqObs_190)\n",
    "z_CO32_250 = (freqEmit[0]-freqObs_250)/(freqObs_250)\n",
    "z_CO32_315 = (freqEmit[0]-freqObs_315)/(freqObs_315)\n",
    "\n",
    "\n",
    "#CO(4-3)\n",
    "z_CO43_190 = (freqEmit[1]-freqObs_190)/(freqObs_190)\n",
    "z_CO43_250 = (freqEmit[1]-freqObs_250)/(freqObs_250)\n",
    "z_CO43_315 = (freqEmit[1]-freqObs_315)/(freqObs_315)\n",
    "\n",
    "#CO(5-6)\n",
    "z_CO56_190 = (freqEmit[2]-freqObs_190)/(freqObs_190)\n",
    "z_CO56_250 = (freqEmit[2]-freqObs_250)/(freqObs_250)\n",
    "z_CO56_315 = (freqEmit[2]-freqObs_315)/(freqObs_315)\n",
    "\n",
    "#CII\n",
    "z_CII_190 = (freqEmit[3]-freqObs_190)/(freqObs_190)\n",
    "z_CII_250 = (freqEmit[3]-freqObs_250)/(freqObs_250)\n",
    "z_CII_315 = (freqEmit[3]-freqObs_315)/(freqObs_315)\n",
    "\n"
   ]
  },
  {
   "cell_type": "code",
   "execution_count": null,
   "metadata": {},
   "outputs": [],
   "source": []
  },
  {
   "cell_type": "code",
   "execution_count": 192,
   "metadata": {},
   "outputs": [
    {
     "data": {
      "text/plain": [
       "array([  2.83598644e+06,   6.20779942e+05,   3.25342027e+07,\n",
       "         2.47405718e+08])"
      ]
     },
     "execution_count": 192,
     "metadata": {},
     "output_type": "execute_result"
    }
   ],
   "source": [
    "# Step 2: Create function to use Karto's code to used Ned Wright's cosmological calc online to calculate luminosity distance, D_L\n",
    "\n",
    "\n",
    "\n",
    "lumDist_210=np.array([3863.3,1736.60,13324.6,82517.7])\n",
    "lumDist_250=([2064.4,5398.6,9284.5,65895.2])\n",
    "lumDist_345=([0,1811.7,4086.2,42080.2])\n",
    "\n",
    "# Step 3: Calculate Brightness Temp Luminosity [L_solar]\n",
    "\n",
    "#create function to do!\n",
    "def temp_lum(freqObs,lumDist, sv, z):\n",
    "   \n",
    "    c = 3**5 #km/s\n",
    "    kb = 1.38**-23 #Jy/K\n",
    "    return (c**2/2*kb)*freqObs**-2*pow(lumDist,2)*pow((1+z),-3)*sv\n",
    "\n"
   ]
  },
  {
   "cell_type": "code",
   "execution_count": null,
   "metadata": {},
   "outputs": [],
   "source": [
    "# Step 4: Calculate volume of space per pointing"
   ]
  },
  {
   "cell_type": "code",
   "execution_count": null,
   "metadata": {},
   "outputs": [],
   "source": []
  },
  {
   "cell_type": "code",
   "execution_count": null,
   "metadata": {},
   "outputs": [],
   "source": []
  },
  {
   "cell_type": "code",
   "execution_count": null,
   "metadata": {
    "collapsed": true
   },
   "outputs": [],
   "source": []
  }
 ],
 "metadata": {
  "kernelspec": {
   "display_name": "Python 3",
   "language": "python",
   "name": "python3"
  },
  "language_info": {
   "codemirror_mode": {
    "name": "ipython",
    "version": 3
   },
   "file_extension": ".py",
   "mimetype": "text/x-python",
   "name": "python",
   "nbconvert_exporter": "python",
   "pygments_lexer": "ipython3",
   "version": "3.6.1"
  }
 },
 "nbformat": 4,
 "nbformat_minor": 2
}
