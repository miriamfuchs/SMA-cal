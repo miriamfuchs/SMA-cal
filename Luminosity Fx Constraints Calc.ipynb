{
 "cells": [
  {
   "cell_type": "code",
   "execution_count": null,
   "metadata": {
    "collapsed": true
   },
   "outputs": [],
   "source": [
    "import pickle as pickle\n",
    "import numpy as np\n",
    "import matplotlib.pyplot as plt\n",
    "from pprint import pprint as pp\n",
    "import math as math\n",
    "from matplotlib.ticker import FuncFormatter, MaxNLocator\n",
    "import pandas as pd\n",
    "from cosmocalc import cosmocalc\n",
    "import scipy\n",
    "from scipy.optimize import fsolve\n",
    "\n",
    "import sympy\n",
    "from sympy.solvers import nsolve\n",
    "from sympy import Symbol"
   ]
  },
  {
   "cell_type": "code",
   "execution_count": null,
   "metadata": {
    "collapsed": true
   },
   "outputs": [],
   "source": []
  },
  {
   "cell_type": "code",
   "execution_count": 3,
   "metadata": {
    "collapsed": true
   },
   "outputs": [],
   "source": [
    "f=open('cal_sensitivity_data.p','rb')\n",
    "cal_sigma=pickle.load(f, encoding='latin1') #dictionary with sensitivities for each frequency bin for each calibrator\n",
    "f.close()\n",
    "\n",
    "#cal_sig= np.array(list(cal_sigma.items()) #convert dictionary to array\n",
    "                \n",
    "N_freq=len(cal_sigma['3c84']) \n",
    "N_sources=len(cal_sigma.keys())\n",
    "cal_sig_array =np.zeros([N_freq,N_sources]) \n",
    "\n",
    "for x,source in enumerate(cal_sigma.keys()):\n",
    "    for y in range(N_freq):\n",
    "        cal_sig_array[y,x]=cal_sigma[source][y]\n",
    "        \n",
    "    \n",
    "cal_sig_array[np.where(cal_sig_array!=cal_sig_array)]=1000000.\n",
    "\n",
    "sensitivity_threshold=np.geomspace(.1,100,31) #create sensitivity thresholds \n",
    "\n",
    "#binStruct= {}\n",
    "#binStruct['sensitivity']=np.zeros(len(sensitivity_threshold))\n",
    "#binStruct['bin_count']=np.zeros(len(sensitivity_threshold))\n",
    "N_freq=len(cal_sigma['3c84'])\n",
    "N_threshold=len(sensitivity_threshold)\n",
    "binned_array = np.zeros(shape=(N_freq,N_threshold))\n",
    "\n",
    " #first loop is going thru each frequency bin    \n",
    "for i in range(N_freq):\n",
    "  \n",
    "    #second loop is going thru each sensitivity threshold \n",
    "    for j in range(N_threshold):\n",
    "        binned_array[i,j]=np.sum(cal_sig_array[i]*1500<=sensitivity_threshold[j]) #factor of 1500 to take into account 300 kn/s and 5 sigma detection\n",
    "\n"
   ]
  },
  {
   "cell_type": "code",
   "execution_count": null,
   "metadata": {},
   "outputs": [],
   "source": [
    "cal_sig_array.shape  #(sensitivity for each sources (344?) for each freq bin (181) ? \n",
    "print(cal_sig_array["
   ]
  },
  {
   "cell_type": "code",
   "execution_count": null,
   "metadata": {},
   "outputs": [],
   "source": [
    "len(cal_sigma['3c84'])\n",
    "binned_array.shape"
   ]
  },
  {
   "cell_type": "code",
   "execution_count": null,
   "metadata": {
    "collapsed": true
   },
   "outputs": [],
   "source": [
    "#181 freq bins\n",
    "#344 sources\n",
    "#sensitivity threshold in Jy"
   ]
  },
  {
   "cell_type": "code",
   "execution_count": null,
   "metadata": {},
   "outputs": [],
   "source": [
    "\n",
    "       "
   ]
  },
  {
   "cell_type": "code",
   "execution_count": null,
   "metadata": {},
   "outputs": [],
   "source": [
    " print(cal_sig_array[180,340])"
   ]
  },
  {
   "cell_type": "markdown",
   "metadata": {},
   "source": [
    "# PLOTS"
   ]
  },
  {
   "cell_type": "code",
   "execution_count": null,
   "metadata": {},
   "outputs": [],
   "source": [
    "\n",
    "fig = plt.figure()\n",
    "ax = fig.add_subplot(1, 1,1)\n",
    "plot = ax.imshow(np.transpose(np.log10(binned_array)),extent=[190,371,100,.1],aspect='auto')\n",
    "\n",
    "fig.colorbar(plot)\n",
    "ax.set_yticklabels([.1,.5,3,13,63,100])\n",
    "\n",
    "\n",
    "#plt.yscale('log')\n",
    "#extent=[horizontal_min,horizontal_max,vertical_min,vertical_max].\n",
    "\n",
    "y_label=['{:.2f}'.format(x) for x in sensitivity_threshold]\n",
    "print(y_label)\n",
    "\n",
    "#plt.xtitle('Sensitivity Thresholds')\n",
    "#plt.ytitle('Frequency')\n",
    "#plt.Axes.set_yticklabels('.1.003.0001')\n",
    "#plt.yticks(sensitivity_threshold)\n",
    "#y_label=[.1,.003,0.0001])\n",
    "\n",
    "#plt.axes.set_yticklabels('',y_label)\n",
    "#ax1.set_xticklabels\n",
    "#plt.Axes.axes('Frequency [GHz]')\n",
    "#plt.colorbar()\n",
    "ax.set_xlabel('Frequency [GHz]')\n",
    "ax.set_ylabel('Sensitivity Threshold')\n",
    "plt.title('Sensitivity Thresholds for Calibrator Fields')\n",
    "\n",
    "plt.savefig('SensitivityFig-fluxonly.png')\n",
    "plt.show()\n",
    "\n",
    "\n",
    "\n",
    "\n",
    "# Major ticks\n",
    "#ax.set_xticks(np.arange(0, 10, 1));\n",
    "#ax.set_yticks(np.arange(0, 10, 1));\n",
    "\n",
    "# Labels for major ticks\n",
    "#ax.set_xticklabels(np.arange(1, 11, 1));\n",
    "#ax.set_yticklabels(y_label);\n",
    "\n"
   ]
  },
  {
   "cell_type": "code",
   "execution_count": null,
   "metadata": {},
   "outputs": [],
   "source": [
    "freq_bin=np.array(range(190,371,1))\n",
    "plt.contour(np.log10(sensitivity_threshold), freq_bin,binned_array,[1,10,100])\n",
    "plt.title('Contour Plot of Sensitivity Thresholds for Calibrator Fields')\n",
    "\n",
    "plt.savefig('SensitivityContourFig-fluxonly.png')\n",
    "plt.show()\n",
    "#.1 is 20%, .3 is factor of 2, .5 is pi, 1 is 10"
   ]
  },
  {
   "cell_type": "markdown",
   "metadata": {
    "collapsed": true
   },
   "source": [
    "# BEGIN CONVERSION OF SENSITIVITY CALCULATIONS INTO LUMINOSITY FUNCTION\n",
    "\n"
   ]
  },
  {
   "cell_type": "code",
   "execution_count": 115,
   "metadata": {},
   "outputs": [],
   "source": [
    "# Need to convert sensitivity calculations into luminosity function constraints\n",
    "# Array of frequencies observed\n",
    "freqObs_total=np.array(range((181)))+190\n",
    "freqObs_total=freqObs_total.astype(float)\n",
    "\n",
    "\n",
    "# Create new bins for sensitivity values based on freq range\n",
    "#New freq observed arrays\n",
    "#190 to 214 GHz\n",
    "#freqObs_190=np.array(range(60))+190\n",
    "#250 to 314 GHz\n",
    "#freqObs_250=np.array(range(65))+250\n",
    "#315 to 350 GHz\n",
    "#freqObs_315=np.array(range(66))+315\n",
    "\n",
    "\n"
   ]
  },
  {
   "cell_type": "code",
   "execution_count": 116,
   "metadata": {},
   "outputs": [],
   "source": [
    "# Derive redshift values for different spectral lines: \n",
    "\n",
    "# CO(3-2) @ 345 GHz, CO(4-3) @ 461 GHz, CO(5-6) @ 576 GHz, CII @ 1896 GHZ\n",
    "freqEmit = np.array([345.,461.,575.,1896.])\n",
    "\n",
    "#CO(3-2)\n",
    "z_CO32_190 = (freqEmit[0]-freqObs_190)/(freqObs_190)\n",
    "z_CO32_250 = (freqEmit[0]-freqObs_250)/(freqObs_250)\n",
    "z_CO32_315 = (freqEmit[0]-freqObs_315)/(freqObs_315)\n",
    "z_CO32_total = (freqEmit[0]-freqObs_total)/(freqObs_total)\n",
    "\n",
    "#CO(4-3)\n",
    "z_CO43_190 = (freqEmit[1]-freqObs_190)/(freqObs_190)\n",
    "z_CO43_250 = (freqEmit[1]-freqObs_250)/(freqObs_250)\n",
    "z_CO43_315 = (freqEmit[1]-freqObs_315)/(freqObs_315)\n",
    "\n",
    "z_CO43_total = (freqEmit[1]-freqObs_total)/(freqObs_total)\n",
    "z_CO43_total_range1=(freqEmit[1]-freqObs_total-4)/(freqObs_total-4) #want across freq space - 4 GHz\n",
    "z_CO43_total_range2=(freqEmit[1]-freqObs_total+4)/(freqObs_total+4) # + 4 GHZ\n",
    "#z_CO43_total_bandwidth = z_CO43_total_range2-z_CO43_total_range1 #GO BACK TO\n",
    "\n",
    "\n",
    "#CO(5-6)\n",
    "z_CO56_190 = (freqEmit[2]-freqObs_190)/(freqObs_190)\n",
    "z_CO56_250 = (freqEmit[2]-freqObs_250)/(freqObs_250)\n",
    "z_CO56_315 = (freqEmit[2]-freqObs_315)/(freqObs_315)\n",
    "\n",
    "#CII\n",
    "z_CII_190 = (freqEmit[3]-freqObs_190)/(freqObs_190)\n",
    "z_CII_250 = (freqEmit[3]-freqObs_250)/(freqObs_250)\n",
    "z_CII_315 = (freqEmit[3]-freqObs_315)/(freqObs_315)\n",
    "\n"
   ]
  },
  {
   "cell_type": "code",
   "execution_count": 118,
   "metadata": {},
   "outputs": [],
   "source": [
    "#Calculate luminosity distance for each redshift array [Mpc]\n",
    "lumdist_CO43_total = [cosmocalc(z)['DL_Mpc'] for z in z_CO43_total]\n",
    "\n",
    "#Calculate comoving radial distance [Mpc] for total bandwidth\n",
    "comdist_CO43_range1 = [cosmocalc(z)['DCMR_Mpc'] for z in z_CO43_total_range1]\n",
    "comdist_CO43_range2 = [cosmocalc(z)['DCMR_Mpc'] for z in z_CO43_total_range2]\n",
    "#comdist_CO43_total_bandwidth = comdist_CO43_range2-comdist_CO43_range1\n",
    "#pp(lumdist)\n",
    "\n",
    "#np.subtract(comdist_CO43_range2,comdist_CO43_range1) #GO BACK AND CHECK IF TAKE different in z vs difference in comoving length"
   ]
  },
  {
   "cell_type": "code",
   "execution_count": 119,
   "metadata": {},
   "outputs": [],
   "source": [
    "# Create fucntion to calculate Brightness Temp Luminosity [L_solar]\n",
    "def temp_lum(freqObs,lumDist, sv, z):\n",
    "   \n",
    "   c = 3.**5 #km/s\n",
    "   kb = np.power(1.38,-23) #Jy/K\n",
    "   return (c**2/2*kb)*np.power(freqObs_total,-2)*np.power(lumdist_CO43_total,2)*np.power((1+z),-3)*sv\n",
    "\n"
   ]
  },
  {
   "cell_type": "code",
   "execution_count": 120,
   "metadata": {},
   "outputs": [],
   "source": [
    "#Set up empty structure for storing values related to brightness temperature lums\n",
    "CO43_Struct={} \n",
    "Ncal = len(cal_sig_array[0]) #length of frequencies \n",
    "\n",
    "CO43_Struct['freq'] = np.zeros(Ncal) #freq observed\n",
    "CO43_Struct['lumDistance'] = np.zeros(Ncal) # luminosity distance\n",
    "CO43_Struct['Sensitivity'] = np.zeros(Ncal) # sensitivities\n",
    "CO43_Struct['zRed'] = np.zeros(Ncal)  # redshift\n",
    "CO43_Struct['lumTemp'] = np.zeros(Ncal)  # redshift\n",
    "\n",
    "   "
   ]
  },
  {
   "cell_type": "code",
   "execution_count": 122,
   "metadata": {},
   "outputs": [],
   "source": [
    "#find indices of sensitivities values (j corresponds to freq bin; i corresponds to source)\n",
    "for i in range(len(cal_sig_array[0])): #loop over each source\n",
    "    for j in range(len(freqObs_total)): #loop over each freq bin\n",
    "        if cal_sig_array[j,i] != 1000000:\n",
    "           # print(j,i)\n",
    "            CO43_Struct['lumTemp']=temp_lum(freqObs_total, lumdist_CO43_total, cal_sig_array[j,i], z_CO32_total)\n",
    "            CO43_Struct['Sensitivity']=cal_sig_array[j,i]\n",
    "    \n",
    "       \n",
    "CO43_Struct['freq']=freqObs_total\n",
    "CO43_Struct['lumDist']=lumdist_CO43_total\n",
    "CO43_Struct['zRed']=z_CO43_total\n"
   ]
  },
  {
   "cell_type": "code",
   "execution_count": null,
   "metadata": {},
   "outputs": [],
   "source": [
    "# Create function to calculate solid angle of beam ---> need to figure out exponential stuff\n",
    "def solid_angle(freqObs):\n",
    "    Aper_eff = .8\n",
    "    D_dish = 6 #[m]\n",
    "    A_geom = (math.pi*(D_dish**2))/4\n",
    "  #####  A_geom = (D_angular*math.pi/180**2)*(math.pi*/4)\n",
    "    A_eff = Aper_eff*A_geom\n",
    "    c = 3*10**8 #m/s\n",
    "    wavelength=c/(freqObs*10**9)\n",
    "    return((wavelength**2)/A_eff)\n",
    "   \n",
    "\n",
    "print(solid_angle(345.))\n",
    "\n",
    "\n"
   ]
  },
  {
   "cell_type": "markdown",
   "metadata": {},
   "source": [
    "# FIGURE OUT EXPONENTIAL THINGSSS"
   ]
  },
  {
   "cell_type": "code",
   "execution_count": 16,
   "metadata": {},
   "outputs": [],
   "source": [
    "#Step 4.5: Figure out angular diameter of dish based on sensitivities\n",
    "\n",
    "# the sensitivity of the telescope is better at the center of the field of view versus the edge. \n",
    "#Generally speaking, the sensitivity scales as e^(ln(0.5)*(2*x/FWHM)^2), where x is the distance from field center, \n",
    "#and the FWHM is the resolution of a single SMA telescope (roughly lambda / telescope_diameter)\n",
    "\n",
    "def angDiam(freqObs,sens):\n",
    "\n",
    "    D_dish = 6. #[m]\n",
    "    c = 3.**8 #m/s\n",
    "    wavelength=c/freqObs\n",
    "    FWHM = wavelength/D_dish\n",
    "    sens = math.exp(math.log(0.5)*(2*r/FWHM)**2)\n",
    "    return(r)"
   ]
  },
  {
   "cell_type": "code",
   "execution_count": 80,
   "metadata": {},
   "outputs": [
    {
     "name": "stdout",
     "output_type": "stream",
     "text": [
      "<class 'float'>\n"
     ]
    },
    {
     "ename": "TypeError",
     "evalue": "can't convert expression to float",
     "output_type": "error",
     "traceback": [
      "\u001b[0;31m---------------------------------------------------------------------------\u001b[0m",
      "\u001b[0;31mTypeError\u001b[0m                                 Traceback (most recent call last)",
      "\u001b[0;32m<ipython-input-80-9ee121ffcdbb>\u001b[0m in \u001b[0;36m<module>\u001b[0;34m()\u001b[0m\n\u001b[1;32m      8\u001b[0m \u001b[0;34m\u001b[0m\u001b[0m\n\u001b[1;32m      9\u001b[0m \u001b[0;31m#function = math.e**(math.log(0.5)*np.power((2*r/FWHM),2)) - .001\u001b[0m\u001b[0;34m\u001b[0m\u001b[0;34m\u001b[0m\u001b[0m\n\u001b[0;32m---> 10\u001b[0;31m \u001b[0mfunc1\u001b[0m \u001b[0;34m=\u001b[0m \u001b[0mmath\u001b[0m\u001b[0;34m.\u001b[0m\u001b[0mexp\u001b[0m\u001b[0;34m(\u001b[0m\u001b[0mmath\u001b[0m\u001b[0;34m.\u001b[0m\u001b[0mlog\u001b[0m\u001b[0;34m(\u001b[0m\u001b[0;36m0.5\u001b[0m\u001b[0;34m)\u001b[0m\u001b[0;34m*\u001b[0m\u001b[0mnp\u001b[0m\u001b[0;34m.\u001b[0m\u001b[0mpower\u001b[0m\u001b[0;34m(\u001b[0m\u001b[0;36m2\u001b[0m\u001b[0;34m*\u001b[0m\u001b[0mr\u001b[0m\u001b[0;34m/\u001b[0m\u001b[0mFWHM\u001b[0m\u001b[0;34m,\u001b[0m\u001b[0;36m2\u001b[0m\u001b[0;34m)\u001b[0m\u001b[0;34m)\u001b[0m \u001b[0;34m-\u001b[0m\u001b[0;36m.001\u001b[0m\u001b[0;34m\u001b[0m\u001b[0m\n\u001b[0m\u001b[1;32m     11\u001b[0m \u001b[0minitial_guess\u001b[0m \u001b[0;34m=\u001b[0m \u001b[0;36m5.\u001b[0m\u001b[0;34m\u001b[0m\u001b[0m\n\u001b[1;32m     12\u001b[0m \u001b[0;34m\u001b[0m\u001b[0m\n",
      "\u001b[0;32m/Users/mfuchs/anaconda/lib/python3.6/site-packages/sympy/core/expr.py\u001b[0m in \u001b[0;36m__float__\u001b[0;34m(self)\u001b[0m\n\u001b[1;32m    224\u001b[0m         \u001b[0;32mif\u001b[0m \u001b[0mresult\u001b[0m\u001b[0;34m.\u001b[0m\u001b[0mis_number\u001b[0m \u001b[0;32mand\u001b[0m \u001b[0mresult\u001b[0m\u001b[0;34m.\u001b[0m\u001b[0mas_real_imag\u001b[0m\u001b[0;34m(\u001b[0m\u001b[0;34m)\u001b[0m\u001b[0;34m[\u001b[0m\u001b[0;36m1\u001b[0m\u001b[0;34m]\u001b[0m\u001b[0;34m:\u001b[0m\u001b[0;34m\u001b[0m\u001b[0m\n\u001b[1;32m    225\u001b[0m             \u001b[0;32mraise\u001b[0m \u001b[0mTypeError\u001b[0m\u001b[0;34m(\u001b[0m\u001b[0;34m\"can't convert complex to float\"\u001b[0m\u001b[0;34m)\u001b[0m\u001b[0;34m\u001b[0m\u001b[0m\n\u001b[0;32m--> 226\u001b[0;31m         \u001b[0;32mraise\u001b[0m \u001b[0mTypeError\u001b[0m\u001b[0;34m(\u001b[0m\u001b[0;34m\"can't convert expression to float\"\u001b[0m\u001b[0;34m)\u001b[0m\u001b[0;34m\u001b[0m\u001b[0m\n\u001b[0m\u001b[1;32m    227\u001b[0m \u001b[0;34m\u001b[0m\u001b[0m\n\u001b[1;32m    228\u001b[0m     \u001b[0;32mdef\u001b[0m \u001b[0m__complex__\u001b[0m\u001b[0;34m(\u001b[0m\u001b[0mself\u001b[0m\u001b[0;34m)\u001b[0m\u001b[0;34m:\u001b[0m\u001b[0;34m\u001b[0m\u001b[0m\n",
      "\u001b[0;31mTypeError\u001b[0m: can't convert expression to float"
     ]
    }
   ],
   "source": [
    "freqObs=345.\n",
    "D_dish = 6. #[m]\n",
    "c = 3.**8 #m/s\n",
    "wavelength=c/freqObs\n",
    "FWHM = wavelength/D_dish\n",
    "r = Symbol('r')\n",
    "print(type(initial_guess))\n",
    "\n",
    "#function = math.e**(math.log(0.5)*np.power((2*r/FWHM),2)) - .001\n",
    "func1 = math.exp(math.log(0.5)*np.power(2*r/FWHM,2)) -.001\n",
    "initial_guess = 5.\n",
    "\n",
    "#r_solution= fsolve(function,initial_guess)\n",
    "#print(solve(function, r))\n",
    "print(100)\n"
   ]
  },
  {
   "cell_type": "code",
   "execution_count": null,
   "metadata": {
    "collapsed": true
   },
   "outputs": [],
   "source": [
    "# Calculate volume of space per pointing by multiplying difference in comoving radial length\n",
    "# by solid angle of beam to calculate vol of space\n",
    "###will then have lum func/vol of space\n"
   ]
  },
  {
   "cell_type": "code",
   "execution_count": null,
   "metadata": {
    "collapsed": true
   },
   "outputs": [],
   "source": []
  },
  {
   "cell_type": "code",
   "execution_count": null,
   "metadata": {
    "collapsed": true
   },
   "outputs": [],
   "source": []
  }
 ],
 "metadata": {
  "kernelspec": {
   "display_name": "Python 3",
   "language": "python",
   "name": "python3"
  },
  "language_info": {
   "codemirror_mode": {
    "name": "ipython",
    "version": 3
   },
   "file_extension": ".py",
   "mimetype": "text/x-python",
   "name": "python",
   "nbconvert_exporter": "python",
   "pygments_lexer": "ipython3",
   "version": "3.6.1"
  }
 },
 "nbformat": 4,
 "nbformat_minor": 2
}
